{
 "cells": [
  {
   "cell_type": "markdown",
   "id": "0eb6d92f-c0b9-4194-a68c-45549c569f91",
   "metadata": {},
   "source": [
    "# Experiment 2\n",
    "## NUMERICAL PYTHON (NUMPY)"
   ]
  },
  {
   "cell_type": "markdown",
   "id": "1085be53-28bb-40da-9271-b1046815d2e9",
   "metadata": {},
   "source": [
    "### NORMALIZATION PROBLEM"
   ]
  },
  {
   "cell_type": "code",
   "execution_count": 143,
   "id": "8af996a5-0e74-44c5-ab48-1f5a3806d94e",
   "metadata": {},
   "outputs": [
    {
     "name": "stdout",
     "output_type": "stream",
     "text": [
      "Random Array: \n",
      " [[0.09178159 0.39904617 0.25093973 0.24806746 0.02456346]\n",
      " [0.97752012 0.0855163  0.70840563 0.22061908 0.58080502]\n",
      " [0.9176351  0.55674851 0.73556237 0.79262935 0.3183263 ]\n",
      " [0.98180332 0.56966275 0.11557885 0.23521543 0.23959007]\n",
      " [0.24689929 0.33662758 0.98231746 0.04098579 0.74840671]]\n",
      "\n",
      "Normalized Array: \n",
      " [[-1.15740897 -0.18155023 -0.65192975 -0.66105195 -1.37089079]\n",
      " [ 1.65565746 -1.17730726  0.80096174 -0.74822679  0.39570786]\n",
      " [ 1.46546529  0.31930543  0.88721035  1.06845255 -0.43791299]\n",
      " [ 1.66926074  0.36032047 -1.08182993 -0.70186942 -0.68797576]\n",
      " [-0.66476199 -0.37978891  1.67089362 -1.31873417  0.9280034 ]]\n"
     ]
    }
   ],
   "source": [
    "#Access numpy library\n",
    "import numpy as np\n",
    "\n",
    "#Create a randomly-generated 5x5 array called X\n",
    "X = np.random.random((5,5))\n",
    "\n",
    "#Formulate the equation for Normalization\n",
    "mean = X.mean()\n",
    "std = X.std()\n",
    "Z = (X - mean) / std\n",
    "\n",
    "#Save normalized array\n",
    "np.save('X_normalized.npy', Z)\n",
    "\n",
    "#Print arrays\n",
    "print(\"Random Array: \\n\", X)\n",
    "print(\"\\nNormalized Array: \\n\", Z)"
   ]
  },
  {
   "cell_type": "markdown",
   "id": "5195ae58-7dc1-4a99-ae98-f211ad540817",
   "metadata": {},
   "source": [
    "### DIVISIBLE BY 3 PROBLEM"
   ]
  },
  {
   "cell_type": "code",
   "execution_count": 139,
   "id": "2d7082ce-d291-4c82-a979-124824032039",
   "metadata": {},
   "outputs": [
    {
     "name": "stdout",
     "output_type": "stream",
     "text": [
      "A =\n",
      " [[    1     4     9    16    25    36    49    64    81   100]\n",
      " [  121   144   169   196   225   256   289   324   361   400]\n",
      " [  441   484   529   576   625   676   729   784   841   900]\n",
      " [  961  1024  1089  1156  1225  1296  1369  1444  1521  1600]\n",
      " [ 1681  1764  1849  1936  2025  2116  2209  2304  2401  2500]\n",
      " [ 2601  2704  2809  2916  3025  3136  3249  3364  3481  3600]\n",
      " [ 3721  3844  3969  4096  4225  4356  4489  4624  4761  4900]\n",
      " [ 5041  5184  5329  5476  5625  5776  5929  6084  6241  6400]\n",
      " [ 6561  6724  6889  7056  7225  7396  7569  7744  7921  8100]\n",
      " [ 8281  8464  8649  8836  9025  9216  9409  9604  9801 10000]]\n",
      "\n",
      "Elements divisible by 3: \n",
      " [   9   36   81  144  225  324  441  576  729  900 1089 1296 1521 1764\n",
      " 2025 2304 2601 2916 3249 3600 3969 4356 4761 5184 5625 6084 6561 7056\n",
      " 7569 8100 8649 9216 9801]\n"
     ]
    }
   ],
   "source": [
    "#Access numpy library\n",
    "import numpy as np\n",
    "\n",
    "#Create array of first 100 positive integers\n",
    "INT = np.arange(1,101,1) \n",
    "\n",
    "#Make an array of the square of INT\n",
    "square = INT**2\n",
    "\n",
    "#Reshape A as a 10x10 array\n",
    "A = square.reshape((10,10))\n",
    "\n",
    "#Determine which elements are divisible by 3\n",
    "DB3 = A[A % 3 == 0]\n",
    "\n",
    "#Save array as  div_by_3.npy\n",
    "np.save('div_by_3.npy', DB3)\n",
    "\n",
    "#Print arrays\n",
    "print(\"A =\\n\", A)\n",
    "print (\"\\nElements divisible by 3: \\n\", DB3) \n"
   ]
  },
  {
   "cell_type": "code",
   "execution_count": null,
   "id": "7001283b-1416-4335-bd76-40b3109c41bf",
   "metadata": {},
   "outputs": [],
   "source": []
  }
 ],
 "metadata": {
  "kernelspec": {
   "display_name": "Python 3 (ipykernel)",
   "language": "python",
   "name": "python3"
  },
  "language_info": {
   "codemirror_mode": {
    "name": "ipython",
    "version": 3
   },
   "file_extension": ".py",
   "mimetype": "text/x-python",
   "name": "python",
   "nbconvert_exporter": "python",
   "pygments_lexer": "ipython3",
   "version": "3.12.4"
  }
 },
 "nbformat": 4,
 "nbformat_minor": 5
}
